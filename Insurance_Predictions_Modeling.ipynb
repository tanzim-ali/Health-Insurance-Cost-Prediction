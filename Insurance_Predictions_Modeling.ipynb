{
  "nbformat": 4,
  "nbformat_minor": 0,
  "metadata": {
    "colab": {
      "provenance": []
    },
    "kernelspec": {
      "name": "python3",
      "display_name": "Python 3"
    },
    "language_info": {
      "name": "python"
    }
  },
  "cells": [
    {
      "cell_type": "code",
      "execution_count": 4,
      "metadata": {
        "colab": {
          "base_uri": "https://localhost:8080/"
        },
        "id": "k-cjAX8wr13u",
        "outputId": "58931878-c35e-42ca-941c-5ddc1554761f"
      },
      "outputs": [
        {
          "output_type": "stream",
          "name": "stdout",
          "text": [
            "2.13.0\n"
          ]
        }
      ],
      "source": [
        "import tensorflow as tf\n",
        "import pandas as pd\n",
        "import matplotlib.pyplot as plt\n",
        "import numpy as np\n",
        "from sklearn.model_selection import train_test_split\n",
        "from sklearn.compose import make_column_transformer\n",
        "from sklearn.preprocessing import MinMaxScaler, OneHotEncoder\n",
        "\n",
        "print(tf.__version__)\n"
      ]
    },
    {
      "cell_type": "code",
      "source": [
        "# Create features and labels\n",
        "X = np.array([-7.0, -4.0, -1.0, 2.0, 5.0, 8.0, 11.0, 14.0])\n",
        "y = np.array([3.0, 6.0, 9.0, 12.0, 15.0, 18.0, 21.0, 24.0])\n",
        "\n",
        "# Visualize the data\n",
        "plt.scatter(X, y)\n",
        "plt.show()\n"
      ],
      "metadata": {
        "colab": {
          "base_uri": "https://localhost:8080/",
          "height": 435
        },
        "id": "2vBpK7BusTWo",
        "outputId": "24526d55-514c-4ad4-b722-80fbcc5411c6"
      },
      "execution_count": 5,
      "outputs": [
        {
          "output_type": "display_data",
          "data": {
            "text/plain": [
              "<Figure size 640x480 with 1 Axes>"
            ],
            "image/png": "[encoded data removed]"
          },
          "metadata": {}
        }
      ]
    },
    {
      "cell_type": "code",
      "source": [
        "# Set random seed\n",
        "tf.random.set_seed(42)\n",
        "\n",
        "# Create a model\n",
        "model = tf.keras.Sequential([\n",
        "  tf.keras.layers.Dense(1)\n",
        "])\n",
        "\n",
        "# Compile the model\n",
        "model.compile(loss=tf.keras.losses.mae,\n",
        "              optimizer=tf.keras.optimizers.SGD(),\n",
        "              metrics=[\"mae\"])\n",
        "\n",
        "# Fit the model\n",
        "model.fit(tf.expand_dims(X, axis=-1), y, epochs=100)\n"
      ],
      "metadata": {
        "colab": {
          "base_uri": "https://localhost:8080/"
        },
        "id": "vsUYNBWXsWs8",
        "outputId": "1f9d47e9-da7c-422f-ec48-9854bc776131"
      },
      "execution_count": 6,
      "outputs": [
        {
          "output_type": "stream",
          "name": "stdout",
          "text": [
            "Epoch 1/100\n",
            "1/1 [==============================] - 0s 471ms/step - loss: 16.4342 - mae: 16.4342\n",
            "Epoch 2/100\n",
            "1/1 [==============================] - 0s 10ms/step - loss: 16.1530 - mae: 16.1530\n",
            "Epoch 3/100\n",
            "1/1 [==============================] - 0s 12ms/step - loss: 15.8717 - mae: 15.8717\n",
            "Epoch 4/100\n",
            "1/1 [==============================] - 0s 11ms/step - loss: 15.5905 - mae: 15.5905\n",
            "Epoch 5/100\n",
            "1/1 [==============================] - 0s 9ms/step - loss: 15.3092 - mae: 15.3092\n",
            "Epoch 6/100\n",
            "1/1 [==============================] - 0s 11ms/step - loss: 15.0280 - mae: 15.0280\n",
            "Epoch 7/100\n",
            "1/1 [==============================] - 0s 9ms/step - loss: 14.8087 - mae: 14.8087\n",
            "Epoch 8/100\n",
            "1/1 [==============================] - 0s 10ms/step - loss: 14.6762 - mae: 14.6762\n",
            "Epoch 9/100\n",
            "1/1 [==============================] - 0s 10ms/step - loss: 14.5437 - mae: 14.5437\n",
            "Epoch 10/100\n",
            "1/1 [==============================] - 0s 10ms/step - loss: 14.4112 - mae: 14.4112\n",
            "Epoch 11/100\n",
            "1/1 [==============================] - 0s 10ms/step - loss: 14.2787 - mae: 14.2787\n",
            "Epoch 12/100\n",
            "1/1 [==============================] - 0s 13ms/step - loss: 14.1462 - mae: 14.1462\n",
            "Epoch 13/100\n",
            "1/1 [==============================] - 0s 10ms/step - loss: 14.0137 - mae: 14.0137\n",
            "Epoch 14/100\n",
            "1/1 [==============================] - 0s 7ms/step - loss: 13.8812 - mae: 13.8812\n",
            "Epoch 15/100\n",
            "1/1 [==============================] - 0s 8ms/step - loss: 13.7487 - mae: 13.7487\n",
            "Epoch 16/100\n",
            "1/1 [==============================] - 0s 8ms/step - loss: 13.6162 - mae: 13.6162\n",
            "Epoch 17/100\n",
            "1/1 [==============================] - 0s 8ms/step - loss: 13.4837 - mae: 13.4837\n",
            "Epoch 18/100\n",
            "1/1 [==============================] - 0s 16ms/step - loss: 13.3512 - mae: 13.3512\n",
            "Epoch 19/100\n",
            "1/1 [==============================] - 0s 13ms/step - loss: 13.2187 - mae: 13.2187\n",
            "Epoch 20/100\n",
            "1/1 [==============================] - 0s 8ms/step - loss: 13.0862 - mae: 13.0862\n",
            "Epoch 21/100\n",
            "1/1 [==============================] - 0s 11ms/step - loss: 12.9537 - mae: 12.9537\n",
            "Epoch 22/100\n",
            "1/1 [==============================] - 0s 15ms/step - loss: 12.8212 - mae: 12.8212\n",
            "Epoch 23/100\n",
            "1/1 [==============================] - 0s 18ms/step - loss: 12.6887 - mae: 12.6887\n",
            "Epoch 24/100\n",
            "1/1 [==============================] - 0s 16ms/step - loss: 12.5562 - mae: 12.5562\n",
            "Epoch 25/100\n",
            "1/1 [==============================] - 0s 20ms/step - loss: 12.4237 - mae: 12.4237\n",
            "Epoch 26/100\n",
            "1/1 [==============================] - 0s 16ms/step - loss: 12.2912 - mae: 12.2912\n",
            "Epoch 27/100\n",
            "1/1 [==============================] - 0s 10ms/step - loss: 12.1587 - mae: 12.1587\n",
            "Epoch 28/100\n",
            "1/1 [==============================] - 0s 11ms/step - loss: 12.0262 - mae: 12.0262\n",
            "Epoch 29/100\n",
            "1/1 [==============================] - 0s 17ms/step - loss: 11.8937 - mae: 11.8937\n",
            "Epoch 30/100\n",
            "1/1 [==============================] - 0s 27ms/step - loss: 11.7612 - mae: 11.7612\n",
            "Epoch 31/100\n",
            "1/1 [==============================] - 0s 27ms/step - loss: 11.6287 - mae: 11.6287\n",
            "Epoch 32/100\n",
            "1/1 [==============================] - 0s 32ms/step - loss: 11.4962 - mae: 11.4962\n",
            "Epoch 33/100\n",
            "1/1 [==============================] - 0s 16ms/step - loss: 11.3637 - mae: 11.3637\n",
            "Epoch 34/100\n",
            "1/1 [==============================] - 0s 28ms/step - loss: 11.2312 - mae: 11.2312\n",
            "Epoch 35/100\n",
            "1/1 [==============================] - 0s 10ms/step - loss: 11.0987 - mae: 11.0987\n",
            "Epoch 36/100\n",
            "1/1 [==============================] - 0s 25ms/step - loss: 10.9662 - mae: 10.9662\n",
            "Epoch 37/100\n",
            "1/1 [==============================] - 0s 14ms/step - loss: 10.8337 - mae: 10.8337\n",
            "Epoch 38/100\n",
            "1/1 [==============================] - 0s 24ms/step - loss: 10.7012 - mae: 10.7012\n",
            "Epoch 39/100\n",
            "1/1 [==============================] - 0s 17ms/step - loss: 10.5687 - mae: 10.5687\n",
            "Epoch 40/100\n",
            "1/1 [==============================] - 0s 24ms/step - loss: 10.4362 - mae: 10.4362\n",
            "Epoch 41/100\n",
            "1/1 [==============================] - 0s 20ms/step - loss: 10.3037 - mae: 10.3037\n",
            "Epoch 42/100\n",
            "1/1 [==============================] - 0s 33ms/step - loss: 10.1712 - mae: 10.1712\n",
            "Epoch 43/100\n",
            "1/1 [==============================] - 0s 20ms/step - loss: 10.0387 - mae: 10.0387\n",
            "Epoch 44/100\n",
            "1/1 [==============================] - 0s 16ms/step - loss: 9.9062 - mae: 9.9062\n",
            "Epoch 45/100\n",
            "1/1 [==============================] - 0s 17ms/step - loss: 9.7737 - mae: 9.7737\n",
            "Epoch 46/100\n",
            "1/1 [==============================] - 0s 13ms/step - loss: 9.6412 - mae: 9.6412\n",
            "Epoch 47/100\n",
            "1/1 [==============================] - 0s 18ms/step - loss: 9.5087 - mae: 9.5087\n",
            "Epoch 48/100\n",
            "1/1 [==============================] - 0s 17ms/step - loss: 9.3762 - mae: 9.3762\n",
            "Epoch 49/100\n",
            "1/1 [==============================] - 0s 12ms/step - loss: 9.2437 - mae: 9.2437\n",
            "Epoch 50/100\n",
            "1/1 [==============================] - 0s 38ms/step - loss: 9.1112 - mae: 9.1112\n",
            "Epoch 51/100\n",
            "1/1 [==============================] - 0s 18ms/step - loss: 8.9787 - mae: 8.9787\n",
            "Epoch 52/100\n",
            "1/1 [==============================] - 0s 21ms/step - loss: 8.8462 - mae: 8.8462\n",
            "Epoch 53/100\n",
            "1/1 [==============================] - 0s 43ms/step - loss: 8.7137 - mae: 8.7137\n",
            "Epoch 54/100\n",
            "1/1 [==============================] - 0s 24ms/step - loss: 8.5812 - mae: 8.5812\n",
            "Epoch 55/100\n",
            "1/1 [==============================] - 0s 27ms/step - loss: 8.4487 - mae: 8.4487\n",
            "Epoch 56/100\n",
            "1/1 [==============================] - 0s 27ms/step - loss: 8.3162 - mae: 8.3162\n",
            "Epoch 57/100\n",
            "1/1 [==============================] - 0s 37ms/step - loss: 8.1837 - mae: 8.1837\n",
            "Epoch 58/100\n",
            "1/1 [==============================] - 0s 22ms/step - loss: 8.0512 - mae: 8.0512\n",
            "Epoch 59/100\n",
            "1/1 [==============================] - 0s 38ms/step - loss: 7.9187 - mae: 7.9187\n",
            "Epoch 60/100\n",
            "1/1 [==============================] - 0s 15ms/step - loss: 7.7862 - mae: 7.7862\n",
            "Epoch 61/100\n",
            "1/1 [==============================] - 0s 19ms/step - loss: 7.6537 - mae: 7.6537\n",
            "Epoch 62/100\n",
            "1/1 [==============================] - 0s 26ms/step - loss: 7.5212 - mae: 7.5212\n",
            "Epoch 63/100\n",
            "1/1 [==============================] - 0s 17ms/step - loss: 7.3887 - mae: 7.3887\n",
            "Epoch 64/100\n",
            "1/1 [==============================] - 0s 28ms/step - loss: 7.2562 - mae: 7.2562\n",
            "Epoch 65/100\n",
            "1/1 [==============================] - 0s 17ms/step - loss: 7.1237 - mae: 7.1237\n",
            "Epoch 66/100\n",
            "1/1 [==============================] - 0s 19ms/step - loss: 7.0238 - mae: 7.0238\n",
            "Epoch 67/100\n",
            "1/1 [==============================] - 0s 15ms/step - loss: 7.0181 - mae: 7.0181\n",
            "Epoch 68/100\n",
            "1/1 [==============================] - 0s 41ms/step - loss: 7.0125 - mae: 7.0125\n",
            "Epoch 69/100\n",
            "1/1 [==============================] - 0s 20ms/step - loss: 7.0069 - mae: 7.0069\n",
            "Epoch 70/100\n",
            "1/1 [==============================] - 0s 32ms/step - loss: 7.0013 - mae: 7.0013\n",
            "Epoch 71/100\n",
            "1/1 [==============================] - 0s 13ms/step - loss: 6.9956 - mae: 6.9956\n",
            "Epoch 72/100\n",
            "1/1 [==============================] - 0s 12ms/step - loss: 6.9900 - mae: 6.9900\n",
            "Epoch 73/100\n",
            "1/1 [==============================] - 0s 38ms/step - loss: 6.9844 - mae: 6.9844\n",
            "Epoch 74/100\n",
            "1/1 [==============================] - 0s 16ms/step - loss: 6.9787 - mae: 6.9787\n",
            "Epoch 75/100\n",
            "1/1 [==============================] - 0s 12ms/step - loss: 6.9731 - mae: 6.9731\n",
            "Epoch 76/100\n",
            "1/1 [==============================] - 0s 15ms/step - loss: 6.9675 - mae: 6.9675\n",
            "Epoch 77/100\n",
            "1/1 [==============================] - 0s 21ms/step - loss: 6.9619 - mae: 6.9619\n",
            "Epoch 78/100\n",
            "1/1 [==============================] - 0s 18ms/step - loss: 6.9563 - mae: 6.9563\n",
            "Epoch 79/100\n",
            "1/1 [==============================] - 0s 17ms/step - loss: 6.9506 - mae: 6.9506\n",
            "Epoch 80/100\n",
            "1/1 [==============================] - 0s 20ms/step - loss: 6.9450 - mae: 6.9450\n",
            "Epoch 81/100\n",
            "1/1 [==============================] - 0s 33ms/step - loss: 6.9394 - mae: 6.9394\n",
            "Epoch 82/100\n",
            "1/1 [==============================] - 0s 17ms/step - loss: 6.9338 - mae: 6.9338\n",
            "Epoch 83/100\n",
            "1/1 [==============================] - 0s 17ms/step - loss: 6.9281 - mae: 6.9281\n",
            "Epoch 84/100\n",
            "1/1 [==============================] - 0s 17ms/step - loss: 6.9225 - mae: 6.9225\n",
            "Epoch 85/100\n",
            "1/1 [==============================] - 0s 21ms/step - loss: 6.9169 - mae: 6.9169\n",
            "Epoch 86/100\n",
            "1/1 [==============================] - 0s 19ms/step - loss: 6.9113 - mae: 6.9113\n",
            "Epoch 87/100\n",
            "1/1 [==============================] - 0s 23ms/step - loss: 6.9056 - mae: 6.9056\n",
            "Epoch 88/100\n",
            "1/1 [==============================] - 0s 20ms/step - loss: 6.9000 - mae: 6.9000\n",
            "Epoch 89/100\n",
            "1/1 [==============================] - 0s 17ms/step - loss: 6.8944 - mae: 6.8944\n",
            "Epoch 90/100\n",
            "1/1 [==============================] - 0s 21ms/step - loss: 6.8888 - mae: 6.8888\n",
            "Epoch 91/100\n",
            "1/1 [==============================] - 0s 16ms/step - loss: 6.8831 - mae: 6.8831\n",
            "Epoch 92/100\n",
            "1/1 [==============================] - 0s 13ms/step - loss: 6.8775 - mae: 6.8775\n",
            "Epoch 93/100\n",
            "1/1 [==============================] - 0s 13ms/step - loss: 6.8719 - mae: 6.8719\n",
            "Epoch 94/100\n",
            "1/1 [==============================] - 0s 13ms/step - loss: 6.8663 - mae: 6.8663\n",
            "Epoch 95/100\n",
            "1/1 [==============================] - 0s 9ms/step - loss: 6.8606 - mae: 6.8606\n",
            "Epoch 96/100\n",
            "1/1 [==============================] - 0s 11ms/step - loss: 6.8550 - mae: 6.8550\n",
            "Epoch 97/100\n",
            "1/1 [==============================] - 0s 13ms/step - loss: 6.8494 - mae: 6.8494\n",
            "Epoch 98/100\n",
            "1/1 [==============================] - 0s 11ms/step - loss: 6.8438 - mae: 6.8438\n",
            "Epoch 99/100\n",
            "1/1 [==============================] - 0s 17ms/step - loss: 6.8381 - mae: 6.8381\n",
            "Epoch 100/100\n",
            "1/1 [==============================] - 0s 20ms/step - loss: 6.8325 - mae: 6.8325\n"
          ]
        },
        {
          "output_type": "execute_result",
          "data": {
            "text/plain": [
              "<keras.src.callbacks.History at 0x781e4235a830>"
            ]
          },
          "metadata": {},
          "execution_count": 6
        }
      ]
    },
    {
      "cell_type": "code",
      "source": [
        "# Load the insurance dataset\n",
        "insurance = pd.read_csv(\"https://raw.githubusercontent.com/stedy/Machine-Learning-with-R-datasets/master/insurance.csv\")\n",
        "\n",
        "# One-hot encode the categorical columns\n",
        "insurance_one_hot = pd.get_dummies(insurance)\n",
        "\n",
        "# Split the data into train and test sets\n",
        "X = insurance_one_hot.drop(\"charges\", axis=1)\n",
        "y = insurance_one_hot[\"charges\"]\n",
        "X_train, X_test, y_train, y_test = train_test_split(X, y, test_size=0.2, random_state=42)\n"
      ],
      "metadata": {
        "id": "n_6nxUHgsZl2"
      },
      "execution_count": 7,
      "outputs": []
    },
    {
      "cell_type": "code",
      "source": [
        "# Create column transformer for normalization\n",
        "ct = make_column_transformer(\n",
        "    (MinMaxScaler(), [\"age\", \"bmi\", \"children\"]),\n",
        "    # Since \"sex\", \"smoker\", and \"region\" columns are already one-hot encoded,\n",
        "    # we don't need to apply OneHotEncoder on them again.\n",
        "    # Instead, just pass them to MinMaxScaler for normalization (if needed).\n",
        "    (MinMaxScaler(), [\"sex_female\", \"sex_male\", \"smoker_no\", \"smoker_yes\",\n",
        "                      \"region_northeast\", \"region_northwest\", \"region_southeast\", \"region_southwest\"])\n",
        ")\n",
        "\n",
        "# Fit the column transformer to the training data\n",
        "ct.fit(X_train)\n",
        "\n",
        "# Transform the data\n",
        "X_train_normal = ct.transform(X_train)\n",
        "X_test_normal = ct.transform(X_test)\n"
      ],
      "metadata": {
        "id": "Vjt9R2tPseFB"
      },
      "execution_count": 11,
      "outputs": []
    },
    {
      "cell_type": "code",
      "source": [
        "# Set random seed\n",
        "tf.random.set_seed(42)\n",
        "\n",
        "# Build the model\n",
        "insurance_model = tf.keras.Sequential([\n",
        "  tf.keras.layers.Dense(100),\n",
        "  tf.keras.layers.Dense(10),\n",
        "  tf.keras.layers.Dense(1)\n",
        "])\n",
        "\n",
        "# Compile the model\n",
        "insurance_model.compile(loss=tf.keras.losses.mae,\n",
        "                        optimizer=tf.keras.optimizers.Adam(),\n",
        "                        metrics=['mae'])\n",
        "\n",
        "# Fit the model\n",
        "insurance_model.fit(X_train_normal, y_train, epochs=200, verbose=0)\n"
      ],
      "metadata": {
        "colab": {
          "base_uri": "https://localhost:8080/"
        },
        "id": "FnBjVigLsgk6",
        "outputId": "4e137c33-e6e2-48a6-a8bb-f05dbc583b8a"
      },
      "execution_count": 12,
      "outputs": [
        {
          "output_type": "execute_result",
          "data": {
            "text/plain": [
              "<keras.src.callbacks.History at 0x781e3cc38ee0>"
            ]
          },
          "metadata": {},
          "execution_count": 12
        }
      ]
    },
    {
      "cell_type": "code",
      "source": [
        "# Evaluate the model on the test set\n",
        "loss, mae = insurance_model.evaluate(X_test_normal, y_test)\n",
        "print(f\"Loss: {loss}, MAE: {mae}\")\n"
      ],
      "metadata": {
        "colab": {
          "base_uri": "https://localhost:8080/"
        },
        "id": "8wznUDcZsmok",
        "outputId": "b9e01167-e66b-4926-dbe6-a78a6da8ac2e"
      },
      "execution_count": 13,
      "outputs": [
        {
          "output_type": "stream",
          "name": "stdout",
          "text": [
            "9/9 [==============================] - 0s 2ms/step - loss: 3178.5747 - mae: 3178.5747\n",
            "Loss: 3178.57470703125, MAE: 3178.57470703125\n"
          ]
        }
      ]
    }
  ]
}